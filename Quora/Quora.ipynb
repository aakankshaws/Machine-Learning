{
  "nbformat": 4,
  "nbformat_minor": 0,
  "metadata": {
    "colab": {
      "name": "Quora.ipynb",
      "version": "0.3.2",
      "provenance": []
    },
    "kernelspec": {
      "display_name": "Python 3",
      "language": "python",
      "name": "python3"
    }
  },
  "cells": [
    {
      "metadata": {
        "id": "n4V-pxsCT_pb",
        "colab_type": "code",
        "colab": {}
      },
      "cell_type": "code",
      "source": [
        "import pandas as pd\n",
        "import numpy as np\n",
        "import matplotlib.pyplot as plt\n",
        "%matplotlib inline"
      ],
      "execution_count": 0,
      "outputs": []
    },
    {
      "metadata": {
        "id": "A2-z-ML-V5Iw",
        "colab_type": "code",
        "colab": {}
      },
      "cell_type": "code",
      "source": [
        "url = \"http://quora-insincere.s3-website-us-east-1.amazonaws.com/\""
      ],
      "execution_count": 0,
      "outputs": []
    },
    {
      "metadata": {
        "id": "p4cf3a8agr9W",
        "colab_type": "code",
        "colab": {}
      },
      "cell_type": "code",
      "source": [
        "import zipfile\n",
        "from urllib.request import urlopen\n",
        "# from urllib import urlopen  # for python 2\n",
        "\n",
        "import io\n",
        "\n",
        "x = zipfile.ZipFile(io.BytesIO(urlopen(url).read()))"
      ],
      "execution_count": 0,
      "outputs": []
    },
    {
      "metadata": {
        "id": "6NmIpEJOg7cA",
        "colab_type": "code",
        "colab": {
          "base_uri": "https://localhost:8080/",
          "height": 139
        },
        "outputId": "416a00de-e99b-426e-d3a1-005b87fcbf41"
      },
      "cell_type": "code",
      "source": [
        "x.filelist"
      ],
      "execution_count": 20,
      "outputs": [
        {
          "output_type": "execute_result",
          "data": {
            "text/plain": [
              "[<ZipInfo filename='README.md' compress_type=deflate filemode='-rw-r--r--' external_attr=0x4000 file_size=1406 compress_size=701>,\n",
              " <ZipInfo filename='__MACOSX/' filemode='drwxrwxr-x' external_attr=0x4000>,\n",
              " <ZipInfo filename='__MACOSX/._README.md' compress_type=deflate filemode='-rw-r--r--' external_attr=0x4000 file_size=333 compress_size=245>,\n",
              " <ZipInfo filename='TOS.txt' compress_type=deflate filemode='-rw-r--r--' external_attr=0x4000 file_size=2566 compress_size=1267>,\n",
              " <ZipInfo filename='__MACOSX/._TOS.txt' compress_type=deflate filemode='-rw-r--r--' external_attr=0x4000 file_size=266 compress_size=152>,\n",
              " <ZipInfo filename='insincere.csv' compress_type=deflate filemode='-rwxr-xr-x' external_attr=0x4000 file_size=124206772 compress_size=57047572>,\n",
              " <ZipInfo filename='__MACOSX/._insincere.csv' compress_type=deflate filemode='-rw-r--r--' external_attr=0x4000 file_size=212 compress_size=135>]"
            ]
          },
          "metadata": {
            "tags": []
          },
          "execution_count": 20
        }
      ]
    },
    {
      "metadata": {
        "id": "ZEvf4Rq0hrDK",
        "colab_type": "code",
        "colab": {}
      },
      "cell_type": "code",
      "source": [
        ""
      ],
      "execution_count": 0,
      "outputs": []
    }
  ]
}